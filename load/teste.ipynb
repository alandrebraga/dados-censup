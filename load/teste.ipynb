{
 "cells": [
  {
   "cell_type": "code",
   "execution_count": 62,
   "metadata": {},
   "outputs": [],
   "source": [
    "import pandas as pd\n",
    "import os\n",
    "import glob\n",
    "from dbconfig import config\n",
    "import psycopg2\n",
    "import re"
   ]
  },
  {
   "cell_type": "code",
   "execution_count": 41,
   "metadata": {},
   "outputs": [],
   "source": [
    "dataset_dir = 'data'"
   ]
  },
  {
   "cell_type": "code",
   "execution_count": 42,
   "metadata": {},
   "outputs": [],
   "source": [
    "csv_files = glob.glob('../data/*.CSV')"
   ]
  },
  {
   "cell_type": "code",
   "execution_count": 65,
   "metadata": {},
   "outputs": [
    {
     "name": "stderr",
     "output_type": "stream",
     "text": [
      "/tmp/ipykernel_25696/3309157878.py:7: DtypeWarning: Columns (1,3,4,6) have mixed types. Specify dtype option on import or set low_memory=False.\n",
      "  df_cursos.append(pd.read_csv(file, sep=','))\n",
      "/tmp/ipykernel_25696/3309157878.py:7: DtypeWarning: Columns (1,3,4,6) have mixed types. Specify dtype option on import or set low_memory=False.\n",
      "  df_cursos.append(pd.read_csv(file, sep=','))\n",
      "/home/andreb/Documents/censo-project/venv/lib64/python3.11/site-packages/pandas/core/internals/blocks.py:2323: RuntimeWarning: invalid value encountered in cast\n",
      "  values = values.astype(str)\n"
     ]
    }
   ],
   "source": [
    "df_cursos = []\n",
    "df_ies = []\n",
    "\n",
    "for file in csv_files:\n",
    "    try:\n",
    "        if \"CURSOS\" in file:\n",
    "            df_cursos.append(pd.read_csv(file, sep=','))\n",
    "        else:\n",
    "            df_ies.append(pd.read_csv(file, sep=','))\n",
    "    except UnicodeDecodeError:\n",
    "        if \"CURSOS\" in file:\n",
    "            df_cursos.append(pd.read_csv(file, sep=',', encoding='ISO-8859-1'))\n",
    "        else:\n",
    "            df_ies.append(pd.read_csv(file, sep=',', encoding='ISO-8859-1'))\n",
    "\n",
    "cursos = pd.concat(df_cursos)\n",
    "ies = pd.concat(df_ies)\n",
    "\n",
    "cursos.to_csv(\"../data/cursos.csv\", header=cursos.columns, index=False, encoding='utf-8')\n",
    "ies.to_csv(\"../data/instituicoes.csv\", header=ies.columns, index=False, encoding='utf-8')"
   ]
  },
  {
   "cell_type": "code",
   "execution_count": null,
   "metadata": {},
   "outputs": [],
   "source": [
    "def transform(match):\n",
    "    if match.group(1) == 'CURSOS':\n",
    "        return 'cursos'\n",
    "    elif match.group(1) == 'IES':\n",
    "        return 'instituicoes'\n",
    "\n",
    "for k in csv_files:\n",
    "    if \"CURSOS\" in k:\n",
    "        df = df_cursos[k] \n",
    "    else:\n",
    "        df = df_ies[k] \n",
    "\n",
    "    tbl_name = re.sub(r'\\.\\./data/MICRODADOS_CADASTRO_(CURSOS|IES)_\\d{4}\\.CSV', \n",
    "                    transform, \n",
    "                    k)\n",
    "    print(tbl_name)\n",
    "\n",
    "    replacements = {\n",
    "        'object': 'varchar',\n",
    "        'float64': 'float',\n",
    "        'int64': 'int'\n",
    "    }\n",
    "\n",
    "    #schema\n",
    "    col_str = \",  \".join(\"{} {}\".format(n, d) \n",
    "        for (n,d) in zip (df.columns, df.dtypes.replace(replacements)))\n",
    "    \n",
    "    conn = psycopg2.connect(**config())\n",
    "    cursor = conn.cursor()\n",
    "\n",
    "    #create table\n",
    "    cursor.execute(\"create table %s (%s);\" % (tbl_name, col_str))\n",
    "\n",
    "    df.to_csv(k, header=df.columns, index=False, encoding='utf-8')\n",
    "    my_file = open(k)\n",
    "\n",
    "\n",
    "    COPY_STATEMENT = \"\"\"\n",
    "        COPY %s FROM STDIN WITH\n",
    "        CSV\n",
    "        HEADER\n",
    "        DELIMITER AS ','\n",
    "    \"\"\"\n",
    "    cursor.copy_expert(sql=COPY_STATEMENT % tbl_name, file=my_file)\n",
    "    conn.commit()\n",
    "    cursor.close()"
   ]
  },
  {
   "cell_type": "code",
   "execution_count": null,
   "metadata": {},
   "outputs": [],
   "source": [
    "replacements = {\n",
    "    'object': 'varchar',\n",
    "    'float64': 'float',\n",
    "    'int64': 'int'\n",
    "}\n",
    "\n",
    "#schema\n",
    "col_str = \",  \".join(\"{} {}\".format(n, d) \n",
    "    for (n,d) in zip (df.columns, df.dtypes.replace(replacements)))\n",
    "\n",
    "conn = psycopg2.connect(**config())\n",
    "cursor = conn.cursor()\n",
    "\n",
    "#drop table\n",
    "#create table\n",
    "cursor.execute(\"create table %s (%s);\" % (tbl_name, col_str))\n",
    "\n",
    "df.to_csv(k, header=df.columns, index=False, encoding='utf-8')\n",
    "my_file = open(k)\n",
    "\n",
    "\n",
    "COPY_STATEMENT = \"\"\"\n",
    "    COPY %s FROM STDIN WITH\n",
    "    CSV\n",
    "    HEADER\n",
    "    DELIMITER AS ','\n",
    "\"\"\"\n",
    "cursor.copy_expert(sql=COPY_STATEMENT % tbl_name, file=my_file)\n",
    "conn.commit()\n",
    "cursor.close()"
   ]
  },
  {
   "cell_type": "code",
   "execution_count": 75,
   "metadata": {},
   "outputs": [],
   "source": [
    "def load_data(file_path: str):\n",
    "    tbl_name = \"\"\n",
    "    if \"cursos\" in file_path:\n",
    "        tbl_name = \"cursos\"\n",
    "    else:\n",
    "        tbl_name = \"instituicoes\"\n",
    "    my_file = open(f\"../data/{tbl_name}.csv\")\n",
    "\n",
    "    col_str = \",  \".join(\"{} {}\".format(n, d) \n",
    "        for (n,d) in zip (df.columns, df.dtypes.replace(replacements)))\n",
    "    \n",
    "    conn = psycopg2.connect(**config())\n",
    "    cursor = conn.cursor()\n",
    "    \n",
    "    cursor.execute(\"drop table if exists %s\" % (tbl_name))\n",
    "\n",
    "    cursor.execute(\"create table %s (%s);\" % (tbl_name, col_str))\n",
    "\n",
    "    COPY_STATEMENT = \"\"\"\n",
    "    COPY %s FROM STDIN WITH\n",
    "    CSV\n",
    "    HEADER\n",
    "    DELIMITER AS ','\n",
    "    \"\"\"\n",
    "    cursor.copy_expert(sql=COPY_STATEMENT % tbl_name, file=my_file)\n",
    "    conn.commit()\n",
    "    cursor.close()\n",
    "    my_file.close()"
   ]
  },
  {
   "cell_type": "code",
   "execution_count": 76,
   "metadata": {},
   "outputs": [],
   "source": [
    "load_data(\"../data/cursos.csv\")"
   ]
  },
  {
   "cell_type": "code",
   "execution_count": null,
   "metadata": {},
   "outputs": [],
   "source": []
  }
 ],
 "metadata": {
  "kernelspec": {
   "display_name": "venv",
   "language": "python",
   "name": "python3"
  },
  "language_info": {
   "codemirror_mode": {
    "name": "ipython",
    "version": 3
   },
   "file_extension": ".py",
   "mimetype": "text/x-python",
   "name": "python",
   "nbconvert_exporter": "python",
   "pygments_lexer": "ipython3",
   "version": "3.11.0"
  },
  "orig_nbformat": 4,
  "vscode": {
   "interpreter": {
    "hash": "7ef42cd30dfcf9d4998c6388cb25860b3dd8150ba984e7cc1dca6f5a7c695d6e"
   }
  }
 },
 "nbformat": 4,
 "nbformat_minor": 2
}
